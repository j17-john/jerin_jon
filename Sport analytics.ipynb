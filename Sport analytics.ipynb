{
 "cells": [
  {
   "cell_type": "code",
   "execution_count": 1,
   "metadata": {},
   "outputs": [],
   "source": [
    "import pandas as pd"
   ]
  },
  {
   "cell_type": "markdown",
   "metadata": {},
   "source": [
    "# Import data into model"
   ]
  },
  {
   "cell_type": "code",
   "execution_count": 2,
   "metadata": {},
   "outputs": [],
   "source": [
    "data = pd.read_csv(r\"C:\\Users\\Home\\Downloads\\dataset\\stats.csv\")"
   ]
  },
  {
   "cell_type": "code",
   "execution_count": 4,
   "metadata": {},
   "outputs": [
    {
     "data": {
      "text/plain": [
       "(63712, 37)"
      ]
     },
     "execution_count": 4,
     "metadata": {},
     "output_type": "execute_result"
    }
   ],
   "source": [
    "data.shape"
   ]
  },
  {
   "cell_type": "code",
   "execution_count": 5,
   "metadata": {},
   "outputs": [
    {
     "name": "stdout",
     "output_type": "stream",
     "text": [
      "<class 'pandas.core.frame.DataFrame'>\n",
      "RangeIndex: 63712 entries, 0 to 63711\n",
      "Data columns (total 37 columns):\n",
      "Team                      63712 non-null object\n",
      "Player                    63712 non-null object\n",
      "D.O.B                     63712 non-null object\n",
      "Height                    63712 non-null int64\n",
      "Weight                    63712 non-null int64\n",
      "Position                  63712 non-null object\n",
      "Season                    63712 non-null int64\n",
      "Round                     63712 non-null object\n",
      "Date                      63624 non-null object\n",
      "Score                     63624 non-null float64\n",
      "Margin                    63624 non-null float64\n",
      "WinLoss                   63624 non-null object\n",
      "Opposition                63624 non-null object\n",
      "Venue                     63624 non-null object\n",
      "Disposals                 63712 non-null int64\n",
      "Kicks                     63712 non-null int64\n",
      "Marks                     63712 non-null int64\n",
      "Handballs                 63712 non-null int64\n",
      "Goals                     63712 non-null int64\n",
      "Behinds                   63712 non-null int64\n",
      "Hitouts                   63712 non-null int64\n",
      "Tackles                   63712 non-null int64\n",
      "Rebound50s                63712 non-null int64\n",
      "Inside50s                 63712 non-null int64\n",
      "Clearances                63712 non-null int64\n",
      "Clangers                  63712 non-null int64\n",
      "FreesFor                  63712 non-null int64\n",
      "FreesAgainst              63712 non-null int64\n",
      "BrownlowVotes             63712 non-null int64\n",
      "ContendedPossessions      63712 non-null int64\n",
      "UncontendedPossessions    63712 non-null int64\n",
      "ContestedMarks            63712 non-null int64\n",
      "MarksInside50             63712 non-null int64\n",
      "OnePercenters             63712 non-null int64\n",
      "Bounces                   63712 non-null int64\n",
      "GoalAssists               63712 non-null int64\n",
      "PercentPlayed             63712 non-null int64\n",
      "dtypes: float64(2), int64(26), object(9)\n",
      "memory usage: 18.0+ MB\n"
     ]
    }
   ],
   "source": [
    "data.info()"
   ]
  },
  {
   "cell_type": "markdown",
   "metadata": {},
   "source": [
    "# Droping the unwanted data"
   ]
  },
  {
   "cell_type": "code",
   "execution_count": 6,
   "metadata": {},
   "outputs": [],
   "source": [
    "data.drop([\"Date\"],axis=1,inplace=True)"
   ]
  },
  {
   "cell_type": "code",
   "execution_count": 7,
   "metadata": {},
   "outputs": [],
   "source": [
    "data.drop([\"D.O.B\"],axis=1,inplace=True)"
   ]
  },
  {
   "cell_type": "code",
   "execution_count": 8,
   "metadata": {},
   "outputs": [],
   "source": [
    "data.drop([\"Margin\"],axis=1,inplace=True)"
   ]
  },
  {
   "cell_type": "code",
   "execution_count": 9,
   "metadata": {},
   "outputs": [
    {
     "data": {
      "text/plain": [
       "Team                       0\n",
       "Player                     0\n",
       "Height                     0\n",
       "Weight                     0\n",
       "Position                   0\n",
       "Season                     0\n",
       "Round                      0\n",
       "Score                     88\n",
       "WinLoss                   88\n",
       "Opposition                88\n",
       "Venue                     88\n",
       "Disposals                  0\n",
       "Kicks                      0\n",
       "Marks                      0\n",
       "Handballs                  0\n",
       "Goals                      0\n",
       "Behinds                    0\n",
       "Hitouts                    0\n",
       "Tackles                    0\n",
       "Rebound50s                 0\n",
       "Inside50s                  0\n",
       "Clearances                 0\n",
       "Clangers                   0\n",
       "FreesFor                   0\n",
       "FreesAgainst               0\n",
       "BrownlowVotes              0\n",
       "ContendedPossessions       0\n",
       "UncontendedPossessions     0\n",
       "ContestedMarks             0\n",
       "MarksInside50              0\n",
       "OnePercenters              0\n",
       "Bounces                    0\n",
       "GoalAssists                0\n",
       "PercentPlayed              0\n",
       "dtype: int64"
      ]
     },
     "execution_count": 9,
     "metadata": {},
     "output_type": "execute_result"
    }
   ],
   "source": [
    "data.isnull().sum()"
   ]
  },
  {
   "cell_type": "markdown",
   "metadata": {},
   "source": [
    "# Solving the missing number using Simple imputer"
   ]
  },
  {
   "cell_type": "code",
   "execution_count": 10,
   "metadata": {},
   "outputs": [],
   "source": [
    "from sklearn.impute import SimpleImputer"
   ]
  },
  {
   "cell_type": "code",
   "execution_count": 11,
   "metadata": {},
   "outputs": [],
   "source": [
    "SIMP = SimpleImputer(strategy='most_frequent')"
   ]
  },
  {
   "cell_type": "code",
   "execution_count": 12,
   "metadata": {},
   "outputs": [],
   "source": [
    "jerin = [[\"Score\",\"WinLoss\",\"Opposition\",\"Venue\"]]"
   ]
  },
  {
   "cell_type": "code",
   "execution_count": 13,
   "metadata": {},
   "outputs": [],
   "source": [
    "for col in jerin:\n",
    "    data.loc[:,col] = SIMP.fit_transform(data.loc[:,col])"
   ]
  },
  {
   "cell_type": "code",
   "execution_count": 14,
   "metadata": {},
   "outputs": [],
   "source": [
    "Jerin1 =[\"Team\",\"Player\",\"Position\",\"Round\",\"WinLoss\",\"Opposition\",\"Venue\"]"
   ]
  },
  {
   "cell_type": "markdown",
   "metadata": {},
   "source": [
    "# Transforming the categorical values to numerical"
   ]
  },
  {
   "cell_type": "code",
   "execution_count": 15,
   "metadata": {},
   "outputs": [],
   "source": [
    "from sklearn.preprocessing import LabelEncoder"
   ]
  },
  {
   "cell_type": "code",
   "execution_count": 16,
   "metadata": {},
   "outputs": [],
   "source": [
    "LE = LabelEncoder()"
   ]
  },
  {
   "cell_type": "code",
   "execution_count": 17,
   "metadata": {},
   "outputs": [],
   "source": [
    "for col in Jerin1:\n",
    "    data.loc[:,col] = LE.fit_transform(data.loc[:,col])"
   ]
  },
  {
   "cell_type": "code",
   "execution_count": 18,
   "metadata": {},
   "outputs": [
    {
     "data": {
      "text/plain": [
       "(63712, 34)"
      ]
     },
     "execution_count": 18,
     "metadata": {},
     "output_type": "execute_result"
    }
   ],
   "source": [
    "data.shape"
   ]
  },
  {
   "cell_type": "markdown",
   "metadata": {},
   "source": [
    "# Assigning X and Y values"
   ]
  },
  {
   "cell_type": "code",
   "execution_count": 19,
   "metadata": {},
   "outputs": [],
   "source": [
    "X = data.iloc[:,1:36]"
   ]
  },
  {
   "cell_type": "code",
   "execution_count": 20,
   "metadata": {},
   "outputs": [],
   "source": [
    "Y = data.loc[:,\"PercentPlayed\"]"
   ]
  },
  {
   "cell_type": "markdown",
   "metadata": {},
   "source": [
    "# Train Test Split "
   ]
  },
  {
   "cell_type": "code",
   "execution_count": 21,
   "metadata": {},
   "outputs": [],
   "source": [
    "from sklearn.model_selection import train_test_split"
   ]
  },
  {
   "cell_type": "code",
   "execution_count": 22,
   "metadata": {},
   "outputs": [],
   "source": [
    "train_X,test_X,train_Y,test_Y = train_test_split(X,Y,test_size=0.3,random_state= 10)"
   ]
  },
  {
   "cell_type": "markdown",
   "metadata": {},
   "source": [
    "# Linear Regression"
   ]
  },
  {
   "cell_type": "code",
   "execution_count": 23,
   "metadata": {},
   "outputs": [],
   "source": [
    "from sklearn.linear_model import LinearRegression"
   ]
  },
  {
   "cell_type": "code",
   "execution_count": 24,
   "metadata": {},
   "outputs": [],
   "source": [
    "LR = LinearRegression()"
   ]
  },
  {
   "cell_type": "markdown",
   "metadata": {},
   "source": [
    "# K Nearest Neighbours"
   ]
  },
  {
   "cell_type": "code",
   "execution_count": 25,
   "metadata": {},
   "outputs": [],
   "source": [
    "from sklearn.neighbors import KNeighborsRegressor"
   ]
  },
  {
   "cell_type": "code",
   "execution_count": 26,
   "metadata": {},
   "outputs": [],
   "source": [
    "KNN = KNeighborsRegressor(n_neighbors=7)"
   ]
  },
  {
   "cell_type": "markdown",
   "metadata": {},
   "source": [
    "# Decision Tree"
   ]
  },
  {
   "cell_type": "code",
   "execution_count": 27,
   "metadata": {},
   "outputs": [],
   "source": [
    "from sklearn.tree import DecisionTreeRegressor"
   ]
  },
  {
   "cell_type": "code",
   "execution_count": 28,
   "metadata": {},
   "outputs": [],
   "source": [
    "DT = DecisionTreeRegressor(min_samples_split=10)"
   ]
  },
  {
   "cell_type": "markdown",
   "metadata": {},
   "source": [
    "# Random Forest "
   ]
  },
  {
   "cell_type": "code",
   "execution_count": 29,
   "metadata": {},
   "outputs": [],
   "source": [
    "from sklearn.ensemble import RandomForestRegressor"
   ]
  },
  {
   "cell_type": "code",
   "execution_count": 30,
   "metadata": {},
   "outputs": [],
   "source": [
    "RFR = RandomForestRegressor(n_estimators=15,max_features=20)"
   ]
  },
  {
   "cell_type": "markdown",
   "metadata": {},
   "source": [
    "# Cross Validation"
   ]
  },
  {
   "cell_type": "code",
   "execution_count": 31,
   "metadata": {},
   "outputs": [],
   "source": [
    "from sklearn.model_selection import cross_validate"
   ]
  },
  {
   "cell_type": "code",
   "execution_count": 32,
   "metadata": {},
   "outputs": [
    {
     "name": "stderr",
     "output_type": "stream",
     "text": [
      "[Parallel(n_jobs=1)]: Using backend SequentialBackend with 1 concurrent workers.\n",
      "[Parallel(n_jobs=1)]: Done   5 out of   5 | elapsed:    0.2s finished\n"
     ]
    }
   ],
   "source": [
    "modelCV = cross_validate(LR,train_X,train_Y,cv=5,verbose=1,return_train_score=True)"
   ]
  },
  {
   "cell_type": "code",
   "execution_count": 33,
   "metadata": {},
   "outputs": [
    {
     "name": "stderr",
     "output_type": "stream",
     "text": [
      "[Parallel(n_jobs=1)]: Using backend SequentialBackend with 1 concurrent workers.\n",
      "[Parallel(n_jobs=1)]: Done   5 out of   5 | elapsed:   23.2s finished\n"
     ]
    }
   ],
   "source": [
    "modelCV1 = cross_validate(KNN,train_X,train_Y,cv=5,verbose=1,return_train_score=True)"
   ]
  },
  {
   "cell_type": "code",
   "execution_count": 34,
   "metadata": {},
   "outputs": [
    {
     "name": "stderr",
     "output_type": "stream",
     "text": [
      "[Parallel(n_jobs=1)]: Using backend SequentialBackend with 1 concurrent workers.\n",
      "[Parallel(n_jobs=1)]: Done   5 out of   5 | elapsed:    0.9s finished\n"
     ]
    }
   ],
   "source": [
    "modelCV2 = cross_validate(DT,train_X,train_Y,cv=5,verbose=1,return_train_score=True)"
   ]
  },
  {
   "cell_type": "code",
   "execution_count": 35,
   "metadata": {},
   "outputs": [
    {
     "name": "stderr",
     "output_type": "stream",
     "text": [
      "[Parallel(n_jobs=1)]: Using backend SequentialBackend with 1 concurrent workers.\n",
      "[Parallel(n_jobs=1)]: Done   5 out of   5 | elapsed:    8.1s finished\n"
     ]
    }
   ],
   "source": [
    "modelCV3 = cross_validate(RFR,train_X,train_Y,cv=5,verbose=1,return_train_score=True)"
   ]
  },
  {
   "cell_type": "code",
   "execution_count": 36,
   "metadata": {},
   "outputs": [
    {
     "data": {
      "text/plain": [
       "{'fit_time': array([0.08461714, 0.04686594, 0.0478909 , 0.05307412, 0.03429389]),\n",
       " 'score_time': array([0.01562834, 0.        , 0.00201869, 0.00299239, 0.00803614]),\n",
       " 'test_score': array([1., 1., 1., 1., 1.]),\n",
       " 'train_score': array([1., 1., 1., 1., 1.])}"
      ]
     },
     "execution_count": 36,
     "metadata": {},
     "output_type": "execute_result"
    }
   ],
   "source": [
    "modelCV"
   ]
  },
  {
   "cell_type": "code",
   "execution_count": 37,
   "metadata": {},
   "outputs": [
    {
     "data": {
      "text/plain": [
       "{'fit_time': array([0.11028481, 0.10080886, 0.13093901, 0.1310935 , 0.10063434]),\n",
       " 'score_time': array([0.94237161, 0.921345  , 0.92914319, 0.95037794, 0.92558479]),\n",
       " 'test_score': array([0.92010398, 0.92790346, 0.92669393, 0.92746867, 0.92618583]),\n",
       " 'train_score': array([0.94695806, 0.94488584, 0.94587626, 0.94549   , 0.94563595])}"
      ]
     },
     "execution_count": 37,
     "metadata": {},
     "output_type": "execute_result"
    }
   ],
   "source": [
    "modelCV1"
   ]
  },
  {
   "cell_type": "code",
   "execution_count": 38,
   "metadata": {},
   "outputs": [
    {
     "data": {
      "text/plain": [
       "{'fit_time': array([0.19934034, 0.17452097, 0.17324805, 0.17418313, 0.17337322]),\n",
       " 'score_time': array([0.00201869, 0.00807238, 0.00813079, 0.        , 0.        ]),\n",
       " 'test_score': array([0.99999861, 1.        , 1.        , 0.99999887, 0.99999828]),\n",
       " 'train_score': array([1.        , 1.        , 1.        , 0.99999975, 0.9999995 ])}"
      ]
     },
     "execution_count": 38,
     "metadata": {},
     "output_type": "execute_result"
    }
   ],
   "source": [
    "modelCV2"
   ]
  },
  {
   "cell_type": "code",
   "execution_count": 39,
   "metadata": {},
   "outputs": [
    {
     "data": {
      "text/plain": [
       "{'fit_time': array([1.57562184, 1.53275847, 1.59551954, 1.49692845, 1.55767751]),\n",
       " 'score_time': array([0.01077342, 0.02036166, 0.02022004, 0.02034807, 0.02022052]),\n",
       " 'test_score': array([0.99978581, 0.99987426, 0.99979744, 0.99984586, 0.99972688]),\n",
       " 'train_score': array([0.99992889, 0.99994949, 0.99993759, 0.99994252, 0.99991631])}"
      ]
     },
     "execution_count": 39,
     "metadata": {},
     "output_type": "execute_result"
    }
   ],
   "source": [
    "modelCV3"
   ]
  },
  {
   "cell_type": "markdown",
   "metadata": {},
   "source": [
    "# from the results of cross validation , using the best model"
   ]
  },
  {
   "cell_type": "code",
   "execution_count": 40,
   "metadata": {},
   "outputs": [
    {
     "data": {
      "text/plain": [
       "RandomForestRegressor(bootstrap=True, criterion='mse', max_depth=None,\n",
       "                      max_features=20, max_leaf_nodes=None,\n",
       "                      min_impurity_decrease=0.0, min_impurity_split=None,\n",
       "                      min_samples_leaf=1, min_samples_split=2,\n",
       "                      min_weight_fraction_leaf=0.0, n_estimators=15,\n",
       "                      n_jobs=None, oob_score=False, random_state=None,\n",
       "                      verbose=0, warm_start=False)"
      ]
     },
     "execution_count": 40,
     "metadata": {},
     "output_type": "execute_result"
    }
   ],
   "source": [
    "RFR.fit(train_X,train_Y)"
   ]
  },
  {
   "cell_type": "code",
   "execution_count": 41,
   "metadata": {},
   "outputs": [],
   "source": [
    "y_pred = RFR.predict(test_X)"
   ]
  },
  {
   "cell_type": "markdown",
   "metadata": {},
   "source": [
    "# r2_score"
   ]
  },
  {
   "cell_type": "code",
   "execution_count": 42,
   "metadata": {},
   "outputs": [],
   "source": [
    "from sklearn.metrics import r2_score"
   ]
  },
  {
   "cell_type": "code",
   "execution_count": 43,
   "metadata": {},
   "outputs": [
    {
     "name": "stdout",
     "output_type": "stream",
     "text": [
      "0.9998497785392675\n"
     ]
    }
   ],
   "source": [
    "print(r2_score(test_Y, y_pred))"
   ]
  }
 ],
 "metadata": {
  "kernelspec": {
   "display_name": "Python 3",
   "language": "python",
   "name": "python3"
  },
  "language_info": {
   "codemirror_mode": {
    "name": "ipython",
    "version": 3
   },
   "file_extension": ".py",
   "mimetype": "text/x-python",
   "name": "python",
   "nbconvert_exporter": "python",
   "pygments_lexer": "ipython3",
   "version": "3.7.4"
  }
 },
 "nbformat": 4,
 "nbformat_minor": 2
}
